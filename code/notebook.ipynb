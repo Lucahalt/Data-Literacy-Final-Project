{
 "cells": [
  {
   "cell_type": "markdown",
   "id": "6a556d17",
   "metadata": {},
   "source": [
    "# Predicting probabilities for global remote work salaries over the next few years\n",
    " \n",
    "<hr>"
   ]
  },
  {
   "cell_type": "markdown",
   "id": "3f932ba0",
   "metadata": {},
   "source": [
    "## Imports"
   ]
  },
  {
   "cell_type": "code",
   "execution_count": 1,
   "id": "14c5aa6b",
   "metadata": {},
   "outputs": [],
   "source": [
    "import pandas as pd\n",
    "import numpy as np\n",
    "import matplotlib.pyplot as plt\n",
    "import matplotlib\n",
    "from sklearn.linear_model import LinearRegression"
   ]
  },
  {
   "cell_type": "markdown",
   "id": "a9d6c3a0",
   "metadata": {},
   "source": [
    "## Preparing the dataset"
   ]
  },
  {
   "cell_type": "code",
   "execution_count": 51,
   "id": "ff3d5675",
   "metadata": {
    "scrolled": true
   },
   "outputs": [],
   "source": [
    "data = pd.read_csv(\"..\\data\\salaries.csv\")\n",
    "salary = data.salary_in_usd.to_numpy()\n",
    "\n",
    "#Verhältnisse müssen angepasst werden\n",
    "company_size = data.company_size.replace([\"S\",\"M\",\"L\"],[25,150,350]).to_numpy().reshape(-1,1)\n",
    "experience_level = data.experience_level.replace([\"EN\",\"MI\",\"SE\",\"EX\"],[1,5,10,25]).to_numpy().reshape(-1,1) \n",
    "employment_type = data.employment_type.replace([\"PT\",\"FT\",\"CT\",\"FL\"],[5,10,15,20]).to_numpy().reshape(-1,1)\n",
    "remote_ratio = data.remote_ratio.to_numpy().reshape(-1,1)\n",
    "\n",
    "X = np.concatenate((company_size, experience_level), axis=1)\n",
    "X = np.concatenate((X, employment_type), axis=1)\n",
    "X = np.concatenate((X, remote_ratio), axis=1)"
   ]
  },
  {
   "cell_type": "code",
   "execution_count": 52,
   "id": "6e820d4c",
   "metadata": {},
   "outputs": [
    {
     "name": "stdout",
     "output_type": "stream",
     "text": [
      "Score: 0.2306285234388986\n"
     ]
    },
    {
     "data": {
      "text/plain": [
       "array([  57.6767222 , 5801.63269641, 3838.25275867,  249.68051605])"
      ]
     },
     "execution_count": 52,
     "metadata": {},
     "output_type": "execute_result"
    }
   ],
   "source": [
    "reg = LinearRegression().fit(X, salary)\n",
    "print(\"Score: \" + str(reg.score(X, salary)))\n",
    "reg.coef_"
   ]
  },
  {
   "cell_type": "code",
   "execution_count": null,
   "id": "2bdac32c",
   "metadata": {},
   "outputs": [],
   "source": []
  }
 ],
 "metadata": {
  "kernelspec": {
   "display_name": "Python 3 (ipykernel)",
   "language": "python",
   "name": "python3"
  },
  "language_info": {
   "codemirror_mode": {
    "name": "ipython",
    "version": 3
   },
   "file_extension": ".py",
   "mimetype": "text/x-python",
   "name": "python",
   "nbconvert_exporter": "python",
   "pygments_lexer": "ipython3",
   "version": "3.9.5"
  }
 },
 "nbformat": 4,
 "nbformat_minor": 5
}
